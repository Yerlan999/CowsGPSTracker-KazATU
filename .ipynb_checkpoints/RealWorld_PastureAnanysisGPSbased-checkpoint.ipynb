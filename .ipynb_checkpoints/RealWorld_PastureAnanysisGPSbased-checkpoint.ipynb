{
 "cells": [
  {
   "cell_type": "markdown",
   "metadata": {},
   "source": [
    "# Импортирование библиотек"
   ]
  },
  {
   "cell_type": "code",
   "execution_count": 1,
   "metadata": {
    "colab": {
     "base_uri": "https://localhost:8080/"
    },
    "id": "14Vh8hi4Awdu",
    "outputId": "4edd68e5-994a-4fb5-f630-f5b52d9a5b70"
   },
   "outputs": [],
   "source": [
    "from glob import glob\n",
    "\n",
    "import earthpy as et\n",
    "import earthpy.spatial as es\n",
    "import earthpy.plot as ep\n",
    "import earthpy.mask as em\n",
    "\n",
    "import rasterio as rio\n",
    "from rasterio.plot import plotting_extent\n",
    "from rasterio.plot import show\n",
    "from rasterio.plot import reshape_as_raster, reshape_as_image\n",
    "\n",
    "import numpy as np\n",
    "import numpy.ma as ma\n",
    "\n",
    "import pyproj\n",
    "\n",
    "from scipy import stats as st\n",
    "from scipy.stats.mstats import gmean, hmean\n",
    "from scipy.io import loadmat\n",
    "from sklearn.metrics import classification_report, accuracy_score\n",
    "\n",
    "import geopandas as gpd\n",
    "import pandas as pd\n",
    "import fiona\n",
    "from fiona.drvsupport import supported_drivers\n",
    "from shapely.geometry import Polygon\n",
    "from shapely.ops import unary_union\n",
    "from shapely import affinity\n",
    "\n",
    "from matplotlib.colors import ListedColormap\n",
    "import plotly.graph_objects as go\n",
    "import matplotlib.pyplot as plt\n",
    "from matplotlib.path import Path\n",
    "import pylab as plt\n",
    "from math import e\n",
    "\n",
    "import seaborn as sns\n",
    "import cv2\n",
    "\n",
    "from pathlib import Path as fpath\n",
    "\n",
    "np.seterr(divide='ignore', invalid='ignore')\n",
    "\n",
    "colors = ['tomato', 'navy', 'MediumSpringGreen', 'lightblue', 'orange', 'blue',\n",
    "          'maroon', 'purple', 'yellow', 'olive', 'brown', 'cyan']"
   ]
  },
  {
   "cell_type": "markdown",
   "metadata": {},
   "source": [
    "## Загрузка реальных данных о пастбище в формате .jp2\n",
    "## дата: 2022/08/28"
   ]
  },
  {
   "cell_type": "code",
   "execution_count": 2,
   "metadata": {
    "colab": {
     "base_uri": "https://localhost:8080/"
    },
    "id": "49_U-0s9A3K7",
    "outputId": "33d62556-4f42-494b-aec1-9d7547ed5e47"
   },
   "outputs": [
    {
     "name": "stdout",
     "output_type": "stream",
     "text": [
      "Номер: 0 Канал: B01\n",
      "Номер: 1 Канал: B02\n",
      "Номер: 2 Канал: B03\n",
      "Номер: 3 Канал: B04\n",
      "Номер: 4 Канал: B05\n",
      "Номер: 5 Канал: B06\n",
      "Номер: 6 Канал: B07\n",
      "Номер: 7 Канал: B08\n",
      "Номер: 8 Канал: B09\n",
      "Номер: 9 Канал: B10\n",
      "Номер: 10 Канал: B11\n",
      "Номер: 11 Канал: B12\n",
      "Номер: 12 Канал: B8A\n"
     ]
    }
   ],
   "source": [
    "date = \"20220828\"\n",
    "bands_name = []\n",
    "bands_dict = {}\n",
    "bands = glob(f\"./Pasture_Images/dates/{date}/*B?*.jp2\")\n",
    "if (not bands):\n",
    "    bands = glob(f\"./Pasture_Images/dates/{date}/*B?*.tif\")\n",
    "bands.sort()\n",
    "\n",
    "for i, band in enumerate(bands):\n",
    "    bands_dict[fpath(band).name[-7:-4]] = i\n",
    "    bands_name.append(fpath(band).name[-7:-4])\n",
    "    print(\"Номер:\", i, \"Канал:\", fpath(band).name[-7:-4])\n",
    "    file_extention = fpath(band).suffix"
   ]
  },
  {
   "cell_type": "markdown",
   "metadata": {},
   "source": [
    "# Формирование стэка (3-х мерной матрицы) изображении"
   ]
  },
  {
   "cell_type": "code",
   "execution_count": 3,
   "metadata": {
    "id": "mds_BGVOA5xr"
   },
   "outputs": [],
   "source": [
    "layers = []\n",
    "for band in bands:\n",
    "  with rio.open(band, 'r') as file_image:\n",
    "    raster_profile = file_image.profile\n",
    "    raster_crs = file_image.profile[\"crs\"]\n",
    "    raster_driver = file_image.profile[\"driver\"]\n",
    "    layers.append(file_image.read(1))"
   ]
  },
  {
   "cell_type": "code",
   "execution_count": 4,
   "metadata": {},
   "outputs": [
    {
     "name": "stdout",
     "output_type": "stream",
     "text": [
      "Наибольший размер (разрешение) изображения\n",
      "Высота: 10980 Ширина: 10980\n"
     ]
    }
   ],
   "source": [
    "sorter = lambda x: len(x)\n",
    "sorted_layers = sorted(layers, key=sorter, reverse=True)\n",
    "largest_dimensionH = sorted_layers[0].shape[0]\n",
    "largest_dimensionW = sorted_layers[0].shape[1]\n",
    "\n",
    "#                  *                 0                  1 \n",
    "# np.shape --> [layers]*, rows (height)(высота), cols (width)(ширина)\n",
    "\n",
    "print(\"Наибольший размер (разрешение) изображения\")\n",
    "print(\"Высота:\", largest_dimensionH, \"Ширина:\", largest_dimensionW)"
   ]
  },
  {
   "cell_type": "markdown",
   "metadata": {},
   "source": [
    "### Разбивка изображении (приведение в один размер) "
   ]
  },
  {
   "cell_type": "code",
   "execution_count": 5,
   "metadata": {},
   "outputs": [
    {
     "name": "stdout",
     "output_type": "stream",
     "text": [
      "\n",
      "Канал: B01 || Разрешение на входе: (1830, 1830) -->> Разрешение на выходе: (10980, 10980)\n",
      "\n",
      "Канал: B02 || Не требует преобразовании: (10980, 10980)\n",
      "\n",
      "Канал: B03 || Не требует преобразовании: (10980, 10980)\n",
      "\n",
      "Канал: B04 || Не требует преобразовании: (10980, 10980)\n",
      "\n",
      "Канал: B05 || Разрешение на входе: (5490, 5490) -->> Разрешение на выходе: (10980, 10980)\n",
      "\n",
      "Канал: B06 || Разрешение на входе: (5490, 5490) -->> Разрешение на выходе: (10980, 10980)\n",
      "\n",
      "Канал: B07 || Разрешение на входе: (5490, 5490) -->> Разрешение на выходе: (10980, 10980)\n",
      "\n",
      "Канал: B08 || Не требует преобразовании: (10980, 10980)\n",
      "\n",
      "Канал: B09 || Разрешение на входе: (1830, 1830) -->> Разрешение на выходе: (10980, 10980)\n",
      "\n",
      "Канал: B10 || Разрешение на входе: (1830, 1830) -->> Разрешение на выходе: (10980, 10980)\n",
      "\n",
      "Канал: B11 || Разрешение на входе: (5490, 5490) -->> Разрешение на выходе: (10980, 10980)\n",
      "\n",
      "Канал: B12 || Разрешение на входе: (5490, 5490) -->> Разрешение на выходе: (10980, 10980)\n",
      "\n",
      "Канал: B8A || Разрешение на входе: (5490, 5490) -->> Разрешение на выходе: (10980, 10980)\n"
     ]
    }
   ],
   "source": [
    "try:\n",
    "    bands_stack = np.stack(layers)\n",
    "except:\n",
    "    reshaped_layer = []\n",
    "    for band, layer in enumerate(layers):\n",
    "        if (layer.shape[0] < largest_dimensionH or layer.shape[1] < largest_dimensionW):\n",
    "            print()\n",
    "            print(\"Канал:\", bands_name[band], \"|| Разрешение на входе:\", layer.shape, \"-->> \", end=\"\")\n",
    "            new_layer = cv2.resize(layer, dsize=(largest_dimensionW, largest_dimensionH), interpolation=cv2.INTER_CUBIC)\n",
    "            print(\"Разрешение на выходе:\", new_layer.shape)\n",
    "            reshaped_layer.append(new_layer)\n",
    "        else:\n",
    "            print()\n",
    "            print(\"Канал:\", bands_name[band], \"|| Не требует преобразовании:\", layer.shape)\n",
    "            reshaped_layer.append(layer)\n",
    "    bands_stack = np.stack(reshaped_layer)\n",
    "    \n",
    "image_width, image_height = bands_stack.shape[1], bands_stack.shape[2]"
   ]
  },
  {
   "cell_type": "markdown",
   "metadata": {},
   "source": [
    "# Обрезка изображении по GPS координатам"
   ]
  },
  {
   "cell_type": "code",
   "execution_count": 6,
   "metadata": {},
   "outputs": [
    {
     "ename": "ProjError",
     "evalue": "x, y, z, and time must be same size",
     "output_type": "error",
     "traceback": [
      "\u001b[1;31m---------------------------------------------------------------------------\u001b[0m",
      "\u001b[1;31mProjError\u001b[0m                                 Traceback (most recent call last)",
      "\u001b[1;32m~\\AppData\\Local\\Temp\\ipykernel_10656\\2559536673.py\u001b[0m in \u001b[0;36m<module>\u001b[1;34m\u001b[0m\n\u001b[0;32m      6\u001b[0m     \u001b[0mglobal_df\u001b[0m \u001b[1;33m=\u001b[0m \u001b[0mgpd\u001b[0m\u001b[1;33m.\u001b[0m\u001b[0mread_file\u001b[0m\u001b[1;33m(\u001b[0m\u001b[1;34m'global.kml'\u001b[0m\u001b[1;33m,\u001b[0m \u001b[0mdriver\u001b[0m\u001b[1;33m=\u001b[0m\u001b[1;34m'KML'\u001b[0m\u001b[1;33m)\u001b[0m\u001b[1;33m.\u001b[0m\u001b[0mto_crs\u001b[0m\u001b[1;33m(\u001b[0m\u001b[1;34m\"EPSG:3857\"\u001b[0m\u001b[1;33m)\u001b[0m\u001b[1;33m\u001b[0m\u001b[1;33m\u001b[0m\u001b[0m\n\u001b[0;32m      7\u001b[0m \u001b[1;32mif\u001b[0m \u001b[1;33m(\u001b[0m\u001b[0mraster_driver\u001b[0m \u001b[1;33m==\u001b[0m \u001b[1;34m\"JP2OpenJPEG\"\u001b[0m\u001b[1;33m)\u001b[0m\u001b[1;33m:\u001b[0m\u001b[1;33m\u001b[0m\u001b[1;33m\u001b[0m\u001b[0m\n\u001b[1;32m----> 8\u001b[1;33m     \u001b[0mpasture_df\u001b[0m \u001b[1;33m=\u001b[0m \u001b[0mgpd\u001b[0m\u001b[1;33m.\u001b[0m\u001b[0mread_file\u001b[0m\u001b[1;33m(\u001b[0m\u001b[1;34m'pasture.kml'\u001b[0m\u001b[1;33m,\u001b[0m \u001b[0mdriver\u001b[0m\u001b[1;33m=\u001b[0m\u001b[1;34m'KML'\u001b[0m\u001b[1;33m)\u001b[0m\u001b[1;33m.\u001b[0m\u001b[0mto_crs\u001b[0m\u001b[1;33m(\u001b[0m\u001b[0mraster_crs\u001b[0m\u001b[1;33m)\u001b[0m\u001b[1;33m\u001b[0m\u001b[1;33m\u001b[0m\u001b[0m\n\u001b[0m\u001b[0;32m      9\u001b[0m     \u001b[0mglobal_df\u001b[0m \u001b[1;33m=\u001b[0m \u001b[0mgpd\u001b[0m\u001b[1;33m.\u001b[0m\u001b[0mread_file\u001b[0m\u001b[1;33m(\u001b[0m\u001b[1;34m'global.kml'\u001b[0m\u001b[1;33m,\u001b[0m \u001b[0mdriver\u001b[0m\u001b[1;33m=\u001b[0m\u001b[1;34m'KML'\u001b[0m\u001b[1;33m)\u001b[0m\u001b[1;33m.\u001b[0m\u001b[0mto_crs\u001b[0m\u001b[1;33m(\u001b[0m\u001b[0mraster_crs\u001b[0m\u001b[1;33m)\u001b[0m\u001b[1;33m\u001b[0m\u001b[1;33m\u001b[0m\u001b[0m\n\u001b[0;32m     10\u001b[0m \u001b[1;33m\u001b[0m\u001b[0m\n",
      "\u001b[1;32mC:\\ProgramData\\anaconda3\\lib\\site-packages\\geopandas\\geodataframe.py\u001b[0m in \u001b[0;36mto_crs\u001b[1;34m(self, crs, epsg, inplace)\u001b[0m\n\u001b[0;32m   1362\u001b[0m         \u001b[1;32melse\u001b[0m\u001b[1;33m:\u001b[0m\u001b[1;33m\u001b[0m\u001b[1;33m\u001b[0m\u001b[0m\n\u001b[0;32m   1363\u001b[0m             \u001b[0mdf\u001b[0m \u001b[1;33m=\u001b[0m \u001b[0mself\u001b[0m\u001b[1;33m.\u001b[0m\u001b[0mcopy\u001b[0m\u001b[1;33m(\u001b[0m\u001b[1;33m)\u001b[0m\u001b[1;33m\u001b[0m\u001b[1;33m\u001b[0m\u001b[0m\n\u001b[1;32m-> 1364\u001b[1;33m         \u001b[0mgeom\u001b[0m \u001b[1;33m=\u001b[0m \u001b[0mdf\u001b[0m\u001b[1;33m.\u001b[0m\u001b[0mgeometry\u001b[0m\u001b[1;33m.\u001b[0m\u001b[0mto_crs\u001b[0m\u001b[1;33m(\u001b[0m\u001b[0mcrs\u001b[0m\u001b[1;33m=\u001b[0m\u001b[0mcrs\u001b[0m\u001b[1;33m,\u001b[0m \u001b[0mepsg\u001b[0m\u001b[1;33m=\u001b[0m\u001b[0mepsg\u001b[0m\u001b[1;33m)\u001b[0m\u001b[1;33m\u001b[0m\u001b[1;33m\u001b[0m\u001b[0m\n\u001b[0m\u001b[0;32m   1365\u001b[0m         \u001b[0mdf\u001b[0m\u001b[1;33m.\u001b[0m\u001b[0mgeometry\u001b[0m \u001b[1;33m=\u001b[0m \u001b[0mgeom\u001b[0m\u001b[1;33m\u001b[0m\u001b[1;33m\u001b[0m\u001b[0m\n\u001b[0;32m   1366\u001b[0m         \u001b[1;32mif\u001b[0m \u001b[1;32mnot\u001b[0m \u001b[0minplace\u001b[0m\u001b[1;33m:\u001b[0m\u001b[1;33m\u001b[0m\u001b[1;33m\u001b[0m\u001b[0m\n",
      "\u001b[1;32mC:\\ProgramData\\anaconda3\\lib\\site-packages\\geopandas\\geoseries.py\u001b[0m in \u001b[0;36mto_crs\u001b[1;34m(self, crs, epsg)\u001b[0m\n\u001b[0;32m   1122\u001b[0m         \"\"\"\n\u001b[0;32m   1123\u001b[0m         return GeoSeries(\n\u001b[1;32m-> 1124\u001b[1;33m             \u001b[0mself\u001b[0m\u001b[1;33m.\u001b[0m\u001b[0mvalues\u001b[0m\u001b[1;33m.\u001b[0m\u001b[0mto_crs\u001b[0m\u001b[1;33m(\u001b[0m\u001b[0mcrs\u001b[0m\u001b[1;33m=\u001b[0m\u001b[0mcrs\u001b[0m\u001b[1;33m,\u001b[0m \u001b[0mepsg\u001b[0m\u001b[1;33m=\u001b[0m\u001b[0mepsg\u001b[0m\u001b[1;33m)\u001b[0m\u001b[1;33m,\u001b[0m \u001b[0mindex\u001b[0m\u001b[1;33m=\u001b[0m\u001b[0mself\u001b[0m\u001b[1;33m.\u001b[0m\u001b[0mindex\u001b[0m\u001b[1;33m,\u001b[0m \u001b[0mname\u001b[0m\u001b[1;33m=\u001b[0m\u001b[0mself\u001b[0m\u001b[1;33m.\u001b[0m\u001b[0mname\u001b[0m\u001b[1;33m\u001b[0m\u001b[1;33m\u001b[0m\u001b[0m\n\u001b[0m\u001b[0;32m   1125\u001b[0m         )\n\u001b[0;32m   1126\u001b[0m \u001b[1;33m\u001b[0m\u001b[0m\n",
      "\u001b[1;32mC:\\ProgramData\\anaconda3\\lib\\site-packages\\geopandas\\array.py\u001b[0m in \u001b[0;36mto_crs\u001b[1;34m(self, crs, epsg)\u001b[0m\n\u001b[0;32m    777\u001b[0m         \u001b[0mtransformer\u001b[0m \u001b[1;33m=\u001b[0m \u001b[0mTransformer\u001b[0m\u001b[1;33m.\u001b[0m\u001b[0mfrom_crs\u001b[0m\u001b[1;33m(\u001b[0m\u001b[0mself\u001b[0m\u001b[1;33m.\u001b[0m\u001b[0mcrs\u001b[0m\u001b[1;33m,\u001b[0m \u001b[0mcrs\u001b[0m\u001b[1;33m,\u001b[0m \u001b[0malways_xy\u001b[0m\u001b[1;33m=\u001b[0m\u001b[1;32mTrue\u001b[0m\u001b[1;33m)\u001b[0m\u001b[1;33m\u001b[0m\u001b[1;33m\u001b[0m\u001b[0m\n\u001b[0;32m    778\u001b[0m \u001b[1;33m\u001b[0m\u001b[0m\n\u001b[1;32m--> 779\u001b[1;33m         \u001b[0mnew_data\u001b[0m \u001b[1;33m=\u001b[0m \u001b[0mvectorized\u001b[0m\u001b[1;33m.\u001b[0m\u001b[0mtransform\u001b[0m\u001b[1;33m(\u001b[0m\u001b[0mself\u001b[0m\u001b[1;33m.\u001b[0m\u001b[0mdata\u001b[0m\u001b[1;33m,\u001b[0m \u001b[0mtransformer\u001b[0m\u001b[1;33m.\u001b[0m\u001b[0mtransform\u001b[0m\u001b[1;33m)\u001b[0m\u001b[1;33m\u001b[0m\u001b[1;33m\u001b[0m\u001b[0m\n\u001b[0m\u001b[0;32m    780\u001b[0m         \u001b[1;32mreturn\u001b[0m \u001b[0mGeometryArray\u001b[0m\u001b[1;33m(\u001b[0m\u001b[0mnew_data\u001b[0m\u001b[1;33m,\u001b[0m \u001b[0mcrs\u001b[0m\u001b[1;33m=\u001b[0m\u001b[0mcrs\u001b[0m\u001b[1;33m)\u001b[0m\u001b[1;33m\u001b[0m\u001b[1;33m\u001b[0m\u001b[0m\n\u001b[0;32m    781\u001b[0m \u001b[1;33m\u001b[0m\u001b[0m\n",
      "\u001b[1;32mC:\\ProgramData\\anaconda3\\lib\\site-packages\\geopandas\\_vectorized.py\u001b[0m in \u001b[0;36mtransform\u001b[1;34m(data, func)\u001b[0m\n\u001b[0;32m   1108\u001b[0m \u001b[1;33m\u001b[0m\u001b[0m\n\u001b[0;32m   1109\u001b[0m         \u001b[0mcoords\u001b[0m \u001b[1;33m=\u001b[0m \u001b[0mget_coordinates\u001b[0m\u001b[1;33m(\u001b[0m\u001b[0mdata\u001b[0m\u001b[1;33m[\u001b[0m\u001b[1;33m~\u001b[0m\u001b[0mhas_z\u001b[0m\u001b[1;33m]\u001b[0m\u001b[1;33m,\u001b[0m \u001b[0minclude_z\u001b[0m\u001b[1;33m=\u001b[0m\u001b[1;32mFalse\u001b[0m\u001b[1;33m)\u001b[0m\u001b[1;33m\u001b[0m\u001b[1;33m\u001b[0m\u001b[0m\n\u001b[1;32m-> 1110\u001b[1;33m         \u001b[0mnew_coords_z\u001b[0m \u001b[1;33m=\u001b[0m \u001b[0mfunc\u001b[0m\u001b[1;33m(\u001b[0m\u001b[0mcoords\u001b[0m\u001b[1;33m[\u001b[0m\u001b[1;33m:\u001b[0m\u001b[1;33m,\u001b[0m \u001b[1;36m0\u001b[0m\u001b[1;33m]\u001b[0m\u001b[1;33m,\u001b[0m \u001b[0mcoords\u001b[0m\u001b[1;33m[\u001b[0m\u001b[1;33m:\u001b[0m\u001b[1;33m,\u001b[0m \u001b[1;36m1\u001b[0m\u001b[1;33m]\u001b[0m\u001b[1;33m)\u001b[0m\u001b[1;33m\u001b[0m\u001b[1;33m\u001b[0m\u001b[0m\n\u001b[0m\u001b[0;32m   1111\u001b[0m         \u001b[0mresult\u001b[0m\u001b[1;33m[\u001b[0m\u001b[1;33m~\u001b[0m\u001b[0mhas_z\u001b[0m\u001b[1;33m]\u001b[0m \u001b[1;33m=\u001b[0m \u001b[0mset_coordinates\u001b[0m\u001b[1;33m(\u001b[0m\u001b[0mdata\u001b[0m\u001b[1;33m[\u001b[0m\u001b[1;33m~\u001b[0m\u001b[0mhas_z\u001b[0m\u001b[1;33m]\u001b[0m\u001b[1;33m.\u001b[0m\u001b[0mcopy\u001b[0m\u001b[1;33m(\u001b[0m\u001b[1;33m)\u001b[0m\u001b[1;33m,\u001b[0m \u001b[0mnp\u001b[0m\u001b[1;33m.\u001b[0m\u001b[0marray\u001b[0m\u001b[1;33m(\u001b[0m\u001b[0mnew_coords_z\u001b[0m\u001b[1;33m)\u001b[0m\u001b[1;33m.\u001b[0m\u001b[0mT\u001b[0m\u001b[1;33m)\u001b[0m\u001b[1;33m\u001b[0m\u001b[1;33m\u001b[0m\u001b[0m\n\u001b[0;32m   1112\u001b[0m \u001b[1;33m\u001b[0m\u001b[0m\n",
      "\u001b[1;32mC:\\ProgramData\\anaconda3\\lib\\site-packages\\pyproj\\transformer.py\u001b[0m in \u001b[0;36mtransform\u001b[1;34m(self, xx, yy, zz, tt, radians, errcheck, direction)\u001b[0m\n\u001b[0;32m    428\u001b[0m             \u001b[0mintime\u001b[0m \u001b[1;33m=\u001b[0m \u001b[1;32mNone\u001b[0m\u001b[1;33m\u001b[0m\u001b[1;33m\u001b[0m\u001b[0m\n\u001b[0;32m    429\u001b[0m         \u001b[1;31m# call pj_transform.  inx,iny,inz buffers modified in place.\u001b[0m\u001b[1;33m\u001b[0m\u001b[1;33m\u001b[0m\u001b[0m\n\u001b[1;32m--> 430\u001b[1;33m         self._transformer._transform(\n\u001b[0m\u001b[0;32m    431\u001b[0m             \u001b[0minx\u001b[0m\u001b[1;33m,\u001b[0m\u001b[1;33m\u001b[0m\u001b[1;33m\u001b[0m\u001b[0m\n\u001b[0;32m    432\u001b[0m             \u001b[0miny\u001b[0m\u001b[1;33m,\u001b[0m\u001b[1;33m\u001b[0m\u001b[1;33m\u001b[0m\u001b[0m\n",
      "\u001b[1;32mpyproj/_transformer.pyx\u001b[0m in \u001b[0;36mpyproj._transformer._Transformer._transform\u001b[1;34m()\u001b[0m\n",
      "\u001b[1;31mProjError\u001b[0m: x, y, z, and time must be same size"
     ]
    }
   ],
   "source": [
    "supported_drivers['KML'] = 'rw'\n",
    "tile_id = \"42UWF\"\n",
    "\n",
    "if (raster_driver == \"GTiff\"):\n",
    "    pasture_df = gpd.read_file('pasture.kml', driver='KML').to_crs(\"EPSG:3857\")\n",
    "    global_df = gpd.read_file('global.kml', driver='KML').to_crs(\"EPSG:3857\")\n",
    "if (raster_driver == \"JP2OpenJPEG\"):    \n",
    "    pasture_df = gpd.read_file('pasture.kml', driver='KML').to_crs(raster_crs)\n",
    "    global_df = gpd.read_file('global.kml', driver='KML').to_crs(raster_crs)\n",
    "\n",
    "T42UWF = global_df[global_df[\"Name\"] == tile_id].reset_index(0, True)\n",
    "T42UWF = T42UWF.iloc[0]"
   ]
  },
  {
   "cell_type": "code",
   "execution_count": null,
   "metadata": {},
   "outputs": [],
   "source": [
    "all_zagons = []\n",
    "for zagon in range(len(pasture_df.index)):\n",
    "    all_zagons.append(pasture_df.loc[zagon].geometry)"
   ]
  },
  {
   "cell_type": "code",
   "execution_count": null,
   "metadata": {},
   "outputs": [],
   "source": [
    "gpd.GeoSeries(all_zagons).boundary.plot()\n",
    "plt.show()"
   ]
  },
  {
   "cell_type": "code",
   "execution_count": null,
   "metadata": {},
   "outputs": [],
   "source": [
    "merged_zagons = unary_union(all_zagons)"
   ]
  },
  {
   "cell_type": "code",
   "execution_count": null,
   "metadata": {},
   "outputs": [],
   "source": [
    "gpd.GeoSeries([merged_zagons]).boundary.plot()\n",
    "plt.show()"
   ]
  },
  {
   "cell_type": "markdown",
   "metadata": {},
   "source": [
    "### Крайние точки пастбища и глобального квадрата (мозайки)"
   ]
  },
  {
   "cell_type": "code",
   "execution_count": null,
   "metadata": {},
   "outputs": [],
   "source": [
    "x_min, y_min, x_max, y_max = merged_zagons.bounds \n",
    "X_min, Y_min, X_max, Y_max = T42UWF.geometry.bounds"
   ]
  },
  {
   "cell_type": "markdown",
   "metadata": {},
   "source": [
    "# Конвертация"
   ]
  },
  {
   "cell_type": "code",
   "execution_count": null,
   "metadata": {},
   "outputs": [],
   "source": [
    "x_axis_cut1 = int(np.interp(x_min, [X_min, X_max], [0, bands_stack.shape[2]])) # Левая грань\n",
    "x_axis_cut2 = int(np.interp(x_max, [X_min, X_max], [0, bands_stack.shape[2]])) # Правая грань\n",
    "y_axis_cut1 = int(np.interp(y_max, [Y_min, Y_max], [bands_stack.shape[1], 0])) # Нижняя грань\n",
    "y_axis_cut2 = int(np.interp(y_min, [Y_min, Y_max], [bands_stack.shape[1], 0])) # Вверняя грань\n",
    "\n",
    "print(\"Параметры изображения-обрезки\")\n",
    "print(\"Ширина:\", x_axis_cut2 - x_axis_cut1)\n",
    "print(\"Высота:\", y_axis_cut2 - y_axis_cut1)"
   ]
  },
  {
   "cell_type": "markdown",
   "metadata": {},
   "source": [
    "# Вывод изображения-обрезки пастбища "
   ]
  },
  {
   "cell_type": "markdown",
   "metadata": {},
   "source": [
    "### aoi - (area of interest) = Область интереса (пастбище)"
   ]
  },
  {
   "cell_type": "code",
   "execution_count": null,
   "metadata": {},
   "outputs": [],
   "source": [
    "if (raster_driver == \"GTiff\"):\n",
    "    x_corr_shift = 13\n",
    "    y_corr_shift = 9\n",
    "    aoi_bands_stack = bands_stack[:, y_axis_cut1-y_corr_shift:y_axis_cut2-y_corr_shift, x_axis_cut1-x_corr_shift:x_axis_cut2-x_corr_shift]\n",
    "if (raster_driver == \"JP2OpenJPEG\"): \n",
    "    aoi_bands_stack = bands_stack[:, y_axis_cut1:y_axis_cut2, x_axis_cut1:x_axis_cut2]"
   ]
  },
  {
   "cell_type": "markdown",
   "metadata": {},
   "source": [
    "# Все 13 каналов"
   ]
  },
  {
   "cell_type": "code",
   "execution_count": null,
   "metadata": {},
   "outputs": [],
   "source": [
    "ep.plot_bands(aoi_bands_stack, \n",
    "              cmap = 'gist_earth', \n",
    "              figsize = (20, 10), \n",
    "              cols = 6, \n",
    "              cbar = False)\n",
    "plt.show()"
   ]
  },
  {
   "cell_type": "markdown",
   "metadata": {},
   "source": [
    "# Реальное RGB изображение пастбища с коррекцией"
   ]
  },
  {
   "cell_type": "code",
   "execution_count": null,
   "metadata": {},
   "outputs": [],
   "source": [
    "ep.plot_rgb(aoi_bands_stack,\n",
    "            rgb=(bands_dict[\"B04\"], bands_dict[\"B03\"], bands_dict[\"B02\"]),\n",
    "            stretch=True,\n",
    "            str_clip=0.8,\n",
    "            figsize=(10, 16))\n",
    "plt.show()"
   ]
  },
  {
   "cell_type": "markdown",
   "metadata": {},
   "source": [
    "# Создание масок для загонов"
   ]
  },
  {
   "cell_type": "code",
   "execution_count": null,
   "metadata": {},
   "outputs": [],
   "source": [
    "aoi_width, aoi_height = aoi_bands_stack.shape[2], aoi_bands_stack.shape[1]"
   ]
  },
  {
   "cell_type": "code",
   "execution_count": null,
   "metadata": {},
   "outputs": [],
   "source": [
    "masks = []\n",
    "pasture_edges = []\n",
    "for zagon in range(len(pasture_df)-1):\n",
    "    polygon=[]\n",
    "\n",
    "    for coords in pasture_df.loc[zagon].geometry.exterior.coords:\n",
    "\n",
    "        x = int(np.interp(coords[0], [x_min, x_max], [0, aoi_width]))\n",
    "        y = int(np.interp(coords[1], [y_min, y_max], [aoi_height, 0]))\n",
    "\n",
    "        polygon.append((y, x))\n",
    "        \n",
    "    poly_path=Path(polygon)\n",
    "    x, y = np.mgrid[:aoi_height, :aoi_width]\n",
    "    coors=np.hstack((x.reshape(-1, 1), y.reshape(-1,1)))\n",
    "    \n",
    "    pasture_edges.append(Polygon(polygon))\n",
    "    \n",
    "    mask = ~poly_path.contains_points(coors)\n",
    "    masks.append(mask)"
   ]
  },
  {
   "cell_type": "markdown",
   "metadata": {},
   "source": [
    "# Пример одной маски для определенного загона"
   ]
  },
  {
   "cell_type": "code",
   "execution_count": null,
   "metadata": {},
   "outputs": [],
   "source": [
    "plt.imshow(masks[0].reshape(aoi_height, aoi_width))\n",
    "plt.show()"
   ]
  },
  {
   "cell_type": "markdown",
   "metadata": {},
   "source": [
    "# Normalized Difference Vegetation Index (NDVI)"
   ]
  },
  {
   "cell_type": "code",
   "execution_count": null,
   "metadata": {},
   "outputs": [],
   "source": [
    "fig, ax = plt.subplots(figsize=(12, 12))\n",
    "for zagon in range(len(pasture_df)-1):\n",
    "    \n",
    "    ax.plot(pasture_edges[zagon].exterior.xy[1], pasture_edges[zagon].exterior.xy[0])\n",
    "\n",
    "ndvi = es.normalized_diff(aoi_bands_stack[bands_dict[\"B08\"]], aoi_bands_stack[bands_dict[\"B04\"]])\n",
    "ep.plot_bands(ndvi, ax=ax, cmap=\"RdYlGn\", cols=1, vmin=-1, vmax=1, figsize=(10, 14))\n",
    "\n",
    "plt.show()"
   ]
  },
  {
   "cell_type": "code",
   "execution_count": null,
   "metadata": {},
   "outputs": [],
   "source": [
    "ndvi_masked_array = []\n",
    "for i, mask in enumerate(masks):\n",
    "    mx = ma.masked_array(ndvi, mask=mask.reshape(aoi_height, aoi_width))\n",
    "    ndvi_masked_array.append(mx)"
   ]
  },
  {
   "cell_type": "markdown",
   "metadata": {},
   "source": [
    "# Статистические средние значения по загонам "
   ]
  },
  {
   "cell_type": "code",
   "execution_count": null,
   "metadata": {},
   "outputs": [],
   "source": [
    "for zagon in range(len(masks)):\n",
    "    print(f\"Загон №{zagon+1}. Среднее значение NDVI: \", ndvi_masked_array[zagon].mean(), \" --> \", 451.99 * (0.001 * e**(8.7343 * ndvi_masked_array[zagon].mean())) + 1870.7, \"кг/га\")"
   ]
  },
  {
   "cell_type": "code",
   "execution_count": null,
   "metadata": {},
   "outputs": [],
   "source": [
    "for zagon in range(len(masks)):\n",
    "    print(f\"Загон №{zagon+1}. Медианное значение NDVI: \", ma.median(ndvi_masked_array[zagon]), \" --> \", 451.99 * (0.001 * e**(8.7343 * ma.median(ndvi_masked_array[zagon]))) + 1870.7, \"кг/га\")"
   ]
  },
  {
   "cell_type": "code",
   "execution_count": null,
   "metadata": {},
   "outputs": [],
   "source": [
    "for zagon in range(len(masks)):\n",
    "    print(f\"Загон №{zagon+1}. Гармоническое среднее значение NDVI: \", hmean(ndvi_masked_array[zagon].reshape(aoi_width * aoi_height)), \" --> \", 451.99 * (0.001 * e**(8.7343 * hmean(ndvi_masked_array[zagon].reshape(aoi_width * aoi_height)))) + 1870.7, \"кг/га\")"
   ]
  },
  {
   "cell_type": "code",
   "execution_count": null,
   "metadata": {},
   "outputs": [],
   "source": [
    "for zagon in range(len(masks)):\n",
    "    print(f\"Загон №{zagon+1}. Геометрическое среднее значение NDVI: \", gmean(ndvi_masked_array[zagon].reshape(aoi_width * aoi_height)), \" --> \", 451.99 * (0.001 * e**(8.7343 * gmean(ndvi_masked_array[zagon].reshape(aoi_width * aoi_height)))) + 1870.7, \"кг/га\")"
   ]
  },
  {
   "cell_type": "markdown",
   "metadata": {},
   "source": [
    "# Гистограмма NDVI по загонам\n",
    "### Синяя - среднее значение. Красная - медианное значение\n",
    "### Желтая - Геометрическая средняя. Зеленая - Гармоническая средняя"
   ]
  },
  {
   "cell_type": "code",
   "execution_count": null,
   "metadata": {},
   "outputs": [],
   "source": [
    "for i, zagon in enumerate(ndvi_masked_array):\n",
    "    ep.hist(zagon, colors = colors[i], title=f'Загон-{i+1}', cols=4, alpha=0.5, \n",
    "    figsize = (10, 6))\n",
    "    plt.axvline(ndvi_masked_array[i].mean(), color='b', linestyle='dashed', linewidth=2)\n",
    "    plt.axvline(ma.median(ndvi_masked_array[i]), color='r', linestyle='dashed', linewidth=2)\n",
    "    plt.axvline(hmean(ndvi_masked_array[i].reshape(aoi_width * aoi_height)), color='g', linestyle='dashed', linewidth=2)\n",
    "    plt.axvline(gmean(ndvi_masked_array[i].reshape(aoi_width * aoi_height)), color='y', linestyle='dashed', linewidth=2)\n",
    "    plt.legend([f\"Средняя: {ndvi_masked_array[i].mean()}\",f\"Медианная: {ma.median(ndvi_masked_array[i])}\",f\"Гармоническая: {hmean(ndvi_masked_array[i].reshape(aoi_width * aoi_height))}\",f\"Геометрическая: {gmean(ndvi_masked_array[i].reshape(aoi_width * aoi_height))}\"])\n",
    "plt.show()"
   ]
  },
  {
   "cell_type": "markdown",
   "metadata": {},
   "source": [
    "# Soil Adjusted Vegetation Index (SAVI)"
   ]
  },
  {
   "cell_type": "code",
   "execution_count": null,
   "metadata": {},
   "outputs": [],
   "source": [
    "fig, ax = plt.subplots(figsize=(12, 12))\n",
    "for zagon in range(len(pasture_df)-1):\n",
    "\n",
    "    ax.plot(pasture_edges[zagon].exterior.xy[1], pasture_edges[zagon].exterior.xy[0])\n",
    "\n",
    "L = 0.5\n",
    "savi = ((aoi_bands_stack[bands_dict[\"B08\"]] - aoi_bands_stack[bands_dict[\"B04\"]]) / (aoi_bands_stack[bands_dict[\"B08\"]] + aoi_bands_stack[bands_dict[\"B04\"]] + L)) * (1 + L)\n",
    "\n",
    "ep.plot_bands(savi, ax=ax, cmap=\"RdYlGn\", cols=1, vmin=-1, vmax=1, figsize=(10, 14))\n",
    "plt.show()"
   ]
  },
  {
   "cell_type": "code",
   "execution_count": null,
   "metadata": {},
   "outputs": [],
   "source": [
    "savi_masked_array = []\n",
    "for i, mask in enumerate(masks):\n",
    "    mx = ma.masked_array(savi, mask=mask.reshape(aoi_height, aoi_width))\n",
    "    savi_masked_array.append(mx)"
   ]
  },
  {
   "cell_type": "markdown",
   "metadata": {},
   "source": [
    "# Статистические средние значения по загонам "
   ]
  },
  {
   "cell_type": "code",
   "execution_count": null,
   "metadata": {},
   "outputs": [],
   "source": [
    "for zagon in range(len(masks)):\n",
    "    print(f\"Загон №{zagon+1}. Среднее значение SAVI: \", savi_masked_array[zagon].mean())"
   ]
  },
  {
   "cell_type": "code",
   "execution_count": null,
   "metadata": {},
   "outputs": [],
   "source": [
    "for zagon in range(len(masks)):\n",
    "    print(f\"Загон №{zagon+1}. Медианное значение SAVI: \", ma.median(savi_masked_array[zagon]))"
   ]
  },
  {
   "cell_type": "code",
   "execution_count": null,
   "metadata": {},
   "outputs": [],
   "source": [
    "for zagon in range(len(masks)):\n",
    "    print(f\"Загон №{zagon+1}. Гармоническое среднее значение SAVI: \", hmean(savi_masked_array[zagon].reshape(aoi_width * aoi_height)))"
   ]
  },
  {
   "cell_type": "code",
   "execution_count": null,
   "metadata": {},
   "outputs": [],
   "source": [
    "for zagon in range(len(masks)):\n",
    "    print(f\"Загон №{zagon+1}. Геометрическое среднее значение SAVI: \", gmean(savi_masked_array[zagon].reshape(aoi_width * aoi_height)))"
   ]
  },
  {
   "cell_type": "markdown",
   "metadata": {},
   "source": [
    "# Гистограмма SAVI по загонам\n",
    "### Синяя - среднее значение. Красная - медианное значение\n",
    "### Желтая - Геометрическая средняя. Зеленая - Гармоническая средняя"
   ]
  },
  {
   "cell_type": "code",
   "execution_count": null,
   "metadata": {},
   "outputs": [],
   "source": [
    "for i, zagon in enumerate(savi_masked_array):\n",
    "    ep.hist(zagon, colors = colors[i], title=f'Загон-{i+1}', cols=4, alpha=0.5, \n",
    "    figsize = (10, 6))\n",
    "    plt.axvline(savi_masked_array[i].mean(), color='b', linestyle='dashed', linewidth=2)\n",
    "    plt.axvline(ma.median(savi_masked_array[i]), color='r', linestyle='dashed', linewidth=2)\n",
    "    plt.axvline(hmean(savi_masked_array[i].reshape(aoi_width * aoi_height)), color='g', linestyle='dashed', linewidth=2)\n",
    "    plt.axvline(gmean(savi_masked_array[i].reshape(aoi_width * aoi_height)), color='y', linestyle='dashed', linewidth=2)\n",
    "    plt.legend([f\"Средняя: {savi_masked_array[i].mean()}\",f\"Медианная: {ma.median(savi_masked_array[i])}\",f\"Гармоническая: {hmean(savi_masked_array[i].reshape(aoi_width * aoi_height))}\",f\"Геометрическая: {gmean(savi_masked_array[i].reshape(aoi_width * aoi_height))}\"])\n",
    "plt.show()"
   ]
  },
  {
   "cell_type": "markdown",
   "metadata": {},
   "source": [
    "# Анализ полученных данных"
   ]
  },
  {
   "cell_type": "markdown",
   "metadata": {},
   "source": [
    "## Применение формул для определения урожайности"
   ]
  },
  {
   "cell_type": "markdown",
   "metadata": {},
   "source": [
    "### Ссылка на статью: https://www.sciencedirect.com/science/article/pii/S0034425718304486"
   ]
  },
  {
   "attachments": {
    "Screenshot_14.png": {
     "image/png": "[encoded data removed]"
    }
   },
   "cell_type": "markdown",
   "metadata": {},
   "source": [
    "![Screenshot_14.png](attachment:Screenshot_14.png)"
   ]
  },
  {
   "attachments": {
    "Screenshot_1.png": {
     "image/png": "[encoded data removed]"
    }
   },
   "cell_type": "markdown",
   "metadata": {},
   "source": [
    "![Screenshot_1.png](attachment:Screenshot_1.png)"
   ]
  },
  {
   "cell_type": "code",
   "execution_count": null,
   "metadata": {},
   "outputs": [],
   "source": [
    "NDVI = 0.22419843236491163  # Среднее значение NDVI для загона \n",
    "LAI = 0.001 * e**(8.7343 * NDVI)\n",
    "BM = 451.99 * LAI + 1870.7 # килограмм/гектар"
   ]
  },
  {
   "cell_type": "code",
   "execution_count": null,
   "metadata": {},
   "outputs": [],
   "source": [
    "print(BM, \"кг/га\")"
   ]
  },
  {
   "cell_type": "code",
   "execution_count": null,
   "metadata": {},
   "outputs": [],
   "source": [
    "x = np.linspace(-1, 1)\n",
    "y = 451.99 * (0.001 * e**(8.7343 * x)) + 1870.7\n",
    "plt.plot(x, y, 'r')\n",
    "plt.xlabel(\"Значение NDVI\")\n",
    "plt.ylabel(\"Урожайность (кг/га)\")\n",
    "plt.title(\"Формула Экспоненты\")\n",
    "\n",
    "plt.show()"
   ]
  },
  {
   "cell_type": "markdown",
   "metadata": {},
   "source": [
    "### Формула для даты 09.06 (Загон №3 после)\n",
    "### Соотношение: Наземный NDVI - Урожайность"
   ]
  },
  {
   "cell_type": "code",
   "execution_count": null,
   "metadata": {},
   "outputs": [],
   "source": [
    "NDVI = 0.19566005737281172\n",
    "0.067801*e**(9.302791 * NDVI)"
   ]
  },
  {
   "cell_type": "markdown",
   "metadata": {},
   "source": [
    "### Формула для даты 03.08 (Загон №4 до)\n",
    "### Соотношение: Наземный NDVI - Урожайность"
   ]
  },
  {
   "cell_type": "code",
   "execution_count": null,
   "metadata": {},
   "outputs": [],
   "source": [
    "NDVI = 0.30198322614190826\n",
    "0.468133*e**(2.933024 * NDVI)"
   ]
  },
  {
   "cell_type": "code",
   "execution_count": null,
   "metadata": {},
   "outputs": [],
   "source": []
  },
  {
   "cell_type": "code",
   "execution_count": null,
   "metadata": {},
   "outputs": [],
   "source": []
  },
  {
   "cell_type": "code",
   "execution_count": null,
   "metadata": {},
   "outputs": [],
   "source": []
  },
  {
   "cell_type": "code",
   "execution_count": null,
   "metadata": {},
   "outputs": [],
   "source": []
  },
  {
   "cell_type": "code",
   "execution_count": null,
   "metadata": {},
   "outputs": [],
   "source": []
  },
  {
   "cell_type": "code",
   "execution_count": null,
   "metadata": {},
   "outputs": [],
   "source": []
  },
  {
   "cell_type": "code",
   "execution_count": null,
   "metadata": {},
   "outputs": [],
   "source": [
    "analysis = pd.read_excel('excel_data.xlsx', 0)\n",
    "analysis"
   ]
  },
  {
   "cell_type": "code",
   "execution_count": null,
   "metadata": {},
   "outputs": [],
   "source": [
    "corr = analysis.corr(method='pearson', min_periods=2)\n",
    "corr.style.background_gradient(cmap='coolwarm')"
   ]
  },
  {
   "cell_type": "code",
   "execution_count": null,
   "metadata": {},
   "outputs": [],
   "source": [
    "plt.plot(analysis[\"NDVI сред. знач.\"], analysis[\"Урожай.\"])\n",
    "\n",
    "plt.xlabel(\"NDVI сред. знач.\")\n",
    "plt.ylabel(\"Урожай\")"
   ]
  },
  {
   "cell_type": "code",
   "execution_count": null,
   "metadata": {},
   "outputs": [],
   "source": [
    "real = analysis.iloc[:, [0,1,2]]\n",
    "dzz = analysis.iloc[:, [3,4,5,6,7,8,9,10]]"
   ]
  },
  {
   "cell_type": "code",
   "execution_count": null,
   "metadata": {},
   "outputs": [],
   "source": [
    "sns.set_style(\"ticks\")\n",
    "sns.pairplot(analysis, diag_kind = \"kde\", kind = \"reg\", palette = \"husl\")\n",
    "plt.show()"
   ]
  },
  {
   "cell_type": "code",
   "execution_count": null,
   "metadata": {},
   "outputs": [],
   "source": []
  },
  {
   "cell_type": "code",
   "execution_count": null,
   "metadata": {},
   "outputs": [],
   "source": []
  }
 ],
 "metadata": {
  "colab": {
   "authorship_tag": "ABX9TyPg6ndDU2BYxMAKJr0TRRhs",
   "collapsed_sections": [],
   "include_colab_link": true,
   "mount_file_id": "1eR5BbQ7JmLOg3q4Olg82Rn01jsHHo2gD",
   "name": "Land Cover Classification in Satellite Imagery using Python.ipynb",
   "provenance": []
  },
  "kernelspec": {
   "display_name": "Python 3 (ipykernel)",
   "language": "python",
   "name": "python3"
  },
  "language_info": {
   "codemirror_mode": {
    "name": "ipython",
    "version": 3
   },
   "file_extension": ".py",
   "mimetype": "text/x-python",
   "name": "python",
   "nbconvert_exporter": "python",
   "pygments_lexer": "ipython3",
   "version": "3.9.13"
  }
 },
 "nbformat": 4,
 "nbformat_minor": 1
}
