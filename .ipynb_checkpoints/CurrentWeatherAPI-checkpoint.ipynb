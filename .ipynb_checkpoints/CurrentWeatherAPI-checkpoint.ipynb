{
 "cells": [
  {
   "cell_type": "code",
   "execution_count": 1,
   "id": "0ac33f92",
   "metadata": {},
   "outputs": [],
   "source": [
    "import requests\n",
    "import json\n",
    "from datetime import date, datetime\n",
    "import time"
   ]
  },
  {
   "cell_type": "code",
   "execution_count": 2,
   "id": "3ad822a7",
   "metadata": {},
   "outputs": [],
   "source": [
    "class MakeApiCall:\n",
    "\n",
    "    def get_city_weather(self):\n",
    "        lon, lat = self.get_city_coords()\n",
    "        response = requests.get(f\"https://api.openweathermap.org/data/2.5/weather?lat={lat}&lon={lon}&units=metric&appid={self.api_key}\")\n",
    "        if response.status_code == 200:\n",
    "            print(\"Успешно получены данные о погоде в указанной местности\")\n",
    "            temperature = response.json()[\"main\"][\"temp\"]\n",
    "            feels_like = response.json()[\"main\"][\"feels_like\"]\n",
    "            humidity = response.json()[\"main\"][\"humidity\"]\n",
    "            when_recorded = datetime.utcfromtimestamp(response.json()[\"dt\"]).strftime('%Y-%m-%d %H:%M:%S')\n",
    "            wind_speed = response.json()[\"wind\"][\"speed\"]\n",
    "            wind_degree = response.json()[\"wind\"][\"deg\"]\n",
    "            return when_recorded, temperature, feels_like, humidity, wind_speed, wind_degree\n",
    "        else:\n",
    "            print(f\"Не получилось получить данные о погоде. Код ошибки: {response.status_code}\")\n",
    "\n",
    "    def get_city_coords(self):\n",
    "        response = requests.get(f\"http://api.openweathermap.org/geo/1.0/direct?q={self.city_name}&limit=5&appid={self.api_key}\")\n",
    "        if response.status_code == 200:\n",
    "            print(\"Успешно получены координаты для указанной местности\")\n",
    "            print(f\"Название местности: {response.json()[0]['local_names']['ru']}, Долгота: {response.json()[0]['lon']}, Широта: {response.json()[0]['lat']}\")\n",
    "            return response.json()[0][\"lon\"], response.json()[0][\"lat\"]\n",
    "        else:\n",
    "            print(f\"Не получилось получить данные о координатах. Код ошибки: {response.status_code}\")\n",
    "\n",
    "    def __init__(self, api_key, city_name, start, end, today):\n",
    "        self.api_key = api_key\n",
    "        self.city_name = city_name\n",
    "        self.start = start\n",
    "        self.end = end\n",
    "        self.today = today"
   ]
  },
  {
   "cell_type": "code",
   "execution_count": 3,
   "id": "c1d5f360",
   "metadata": {},
   "outputs": [],
   "source": [
    "start_date = date(2022, 6, 1)\n",
    "end_date = date(2022, 6, 2)\n",
    "current_date = date.today()\n",
    "\n",
    "start = int(time.mktime(start_date.timetuple()))\n",
    "end = int(time.mktime(end_date.timetuple()))\n",
    "today = int(time.mktime(current_date.timetuple()))\n",
    "\n",
    "api_call = MakeApiCall(\"99e5a57e01cae2c3bcbba5d43c31f645\", \"Chagly\", start, end, today)"
   ]
  },
  {
   "cell_type": "code",
   "execution_count": 4,
   "id": "8b968200",
   "metadata": {},
   "outputs": [
    {
     "name": "stdout",
     "output_type": "stream",
     "text": [
      "Успешно получены координаты для указанной местности\n",
      "Название местности: Шагалалы, Долгота: 69.523079, Широта: 54.178135\n",
      "Успешно получены данные о погоде в указанной местности\n"
     ]
    }
   ],
   "source": [
    "if __name__ == \"__main__\":\n",
    "    when_recorded, temperature, feels_like, humidity, wind_speed, wind_degree = api_call.get_city_weather()"
   ]
  },
  {
   "cell_type": "code",
   "execution_count": 5,
   "id": "d4012eeb",
   "metadata": {},
   "outputs": [
    {
     "name": "stdout",
     "output_type": "stream",
     "text": [
      "Время получения данных: 2023-04-15 12:07:53\n",
      "Температура: -0.8 C°\n",
      "Ощущается как: -5.5 C°\n",
      "Влажность: 26 %\n",
      "Скорость ветра: 4.34 метр/сек\n",
      "Угол ветра: 26 C°\n"
     ]
    }
   ],
   "source": [
    "print(\"Время получения данных:\", when_recorded)\n",
    "print(\"Температура:\", temperature, \"C\\xb0\")\n",
    "print(\"Ощущается как:\", feels_like, \"C\\xb0\")\n",
    "print(\"Влажность:\", humidity, \"%\")\n",
    "print(\"Скорость ветра:\", wind_speed, \"метр/сек\")\n",
    "print(\"Угол ветра:\", wind_degree, \"C\\xb0\")"
   ]
  },
  {
   "cell_type": "code",
   "execution_count": null,
   "id": "4d9dc0c3",
   "metadata": {},
   "outputs": [],
   "source": []
  }
 ],
 "metadata": {
  "kernelspec": {
   "display_name": "Python 3 (ipykernel)",
   "language": "python",
   "name": "python3"
  },
  "language_info": {
   "codemirror_mode": {
    "name": "ipython",
    "version": 3
   },
   "file_extension": ".py",
   "mimetype": "text/x-python",
   "name": "python",
   "nbconvert_exporter": "python",
   "pygments_lexer": "ipython3",
   "version": "3.9.13"
  }
 },
 "nbformat": 4,
 "nbformat_minor": 5
}
