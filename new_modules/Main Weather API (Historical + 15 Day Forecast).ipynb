{
 "cells": [
  {
   "cell_type": "code",
   "execution_count": 18,
   "id": "bd9acf42",
   "metadata": {},
   "outputs": [],
   "source": [
    "import csv, json, codecs, sys\n",
    "import urllib.request\n",
    "import urllib.error\n",
    "import pandas as pd"
   ]
  },
  {
   "cell_type": "code",
   "execution_count": 19,
   "id": "eb3712ad",
   "metadata": {},
   "outputs": [],
   "source": [
    "Sample_URL = \"https://weather.visualcrossing.com/VisualCrossingWebServices/rest/services/timeline/54.214106,69.519512/2022-05-01/2022-08-31?key=\"\n",
    "BaseURL = 'https://weather.visualcrossing.com/VisualCrossingWebServices/rest/services/timeline/'\n",
    "\n",
    "ApiKey=''\n",
    "#UnitGroup sets the units of the output - us or metric\n",
    "UnitGroup='metric'\n",
    "\n",
    "#Location for the weather data\n",
    "Location='54.214106,69.519512'\n",
    "\n",
    "#Optional start and end dates\n",
    "#If nothing is specified, the forecast is retrieved.\n",
    "#If start date only is specified, a single historical or forecast day will be retrieved\n",
    "#If both start and and end date are specified, a date range will be retrieved\n",
    "StartDate = '2023-05-01'\n",
    "EndDate='2023-08-31'\n",
    "\n",
    "#JSON or CSV\n",
    "#JSON format supports daily, hourly, current conditions, weather alerts and events in a single JSON package\n",
    "#CSV format requires an 'include' parameter below to indicate which table section is required\n",
    "ContentType=\"json\"\n",
    "\n",
    "#include sections\n",
    "#values include days,hours,current,alerts\n",
    "Include=\"days\"\n",
    "\n",
    "\n",
    "#basic query including location\n",
    "ApiQuery=BaseURL + Location\n",
    "\n",
    "#append the start and end date if present\n",
    "if (len(StartDate)):\n",
    "    ApiQuery+=\"/\"+StartDate\n",
    "    if (len(EndDate)):\n",
    "        ApiQuery+=\"/\"+EndDate\n",
    "\n",
    "#Url is completed. Now add query parameters (could be passed as GET or POST)\n",
    "ApiQuery+=\"?\"\n",
    "\n",
    "#append each parameter as necessary\n",
    "if (len(UnitGroup)):\n",
    "    ApiQuery+=\"&unitGroup=\"+UnitGroup\n",
    "\n",
    "if (len(ContentType)):\n",
    "    ApiQuery+=\"&contentType=\"+ContentType\n",
    "\n",
    "if (len(Include)):\n",
    "    ApiQuery+=\"&include=\"+Include\n",
    "\n",
    "ApiQuery+=\"&key=\"+ApiKey"
   ]
  },
  {
   "cell_type": "code",
   "execution_count": null,
   "id": "462c954f",
   "metadata": {},
   "outputs": [],
   "source": [
    "print(' - Running query URL: ', ApiQuery)\n",
    "print()\n",
    "\n",
    "try:\n",
    "    # Convert from bytes to text\n",
    "    resp_text = urllib.request.urlopen(ApiQuery).read().decode('UTF-8')\n",
    "    # Use loads to decode from text\n",
    "    json_obj = json.loads(resp_text)\n",
    "#     print(json_obj)\n",
    "#     print(\"JSON Object: \")\n",
    "\n",
    "except urllib.error.HTTPError  as e:\n",
    "    ErrorInfo= e.read().decode()\n",
    "    print('Error code: ', e.code, ErrorInfo)\n",
    "    sys.exit()\n",
    "except  urllib.error.URLError as e:\n",
    "    ErrorInfo= e.read().decode()\n",
    "    print('Error code: ', e.code,ErrorInfo)\n",
    "    sys.exit()"
   ]
  },
  {
   "cell_type": "code",
   "execution_count": 21,
   "id": "5aa74396",
   "metadata": {},
   "outputs": [],
   "source": [
    "df = pd.DataFrame(json_obj[\"days\"])"
   ]
  },
  {
   "cell_type": "code",
   "execution_count": null,
   "id": "8c68e129",
   "metadata": {},
   "outputs": [],
   "source": [
    "df"
   ]
  },
  {
   "cell_type": "code",
   "execution_count": 23,
   "id": "f498757d",
   "metadata": {},
   "outputs": [],
   "source": [
    "excel_file_path = f'Weather for from {StartDate} to {EndDate}.xlsx'\n",
    "df.to_excel(excel_file_path, index=False)"
   ]
  },
  {
   "cell_type": "markdown",
   "id": "f101a63b",
   "metadata": {},
   "source": [
    "# Open-Meteo.com"
   ]
  },
  {
   "cell_type": "code",
   "execution_count": 69,
   "id": "26e1aa3f",
   "metadata": {},
   "outputs": [],
   "source": [
    "latitude = 54.214106\n",
    "longitude = 69.519512"
   ]
  },
  {
   "cell_type": "code",
   "execution_count": 83,
   "id": "3e6cc5c2",
   "metadata": {},
   "outputs": [],
   "source": [
    "parameters = [\n",
    "\"temperature_2m_max\",\n",
    "\"temperature_2m_min\",\n",
    "\"apparent_temperature_max\",\n",
    "\"apparent_temperature_min\",\n",
    "\"precipitation_sum\",\n",
    "\"rain_sum\",\n",
    "\"showers_sum\",\n",
    "\"snowfall_sum\",\n",
    "\"precipitation_hours\",\n",
    "\"precipitation_probability_max\",\n",
    "\"precipitation_probability_min\",\n",
    "\"precipitation_probability_mean\",\n",
    "\"weathercode\",\n",
    "\"sunrise\",\n",
    "\"sunset\",\n",
    "\"windspeed_10m_max\",\n",
    "\"windgusts_10m_max\",\n",
    "\"winddirection_10m_dominant\",\n",
    "\"shortwave_radiation_sum\",\n",
    "\"et0_fao_evapotranspiration\",\n",
    "\"uv_index_max\",\n",
    "\"uv_index_clear_sky_max\",]"
   ]
  },
  {
   "cell_type": "code",
   "execution_count": 84,
   "id": "aa297f0a",
   "metadata": {},
   "outputs": [],
   "source": [
    "MainURL = f'https://api.open-meteo.com/v1/forecast?latitude={latitude}&longitude={longitude}&daily='"
   ]
  },
  {
   "cell_type": "code",
   "execution_count": 85,
   "id": "3a34405a",
   "metadata": {},
   "outputs": [
    {
     "name": "stdout",
     "output_type": "stream",
     "text": [
      "https://api.open-meteo.com/v1/forecast?latitude=54.214106&longitude=69.519512&daily=temperature_2m_max,temperature_2m_min,apparent_temperature_max,apparent_temperature_min,precipitation_sum,rain_sum,showers_sum,snowfall_sum,precipitation_hours,precipitation_probability_max,precipitation_probability_min,precipitation_probability_mean,weathercode,sunrise,sunset,windspeed_10m_max,windgusts_10m_max,winddirection_10m_dominant,shortwave_radiation_sum,et0_fao_evapotranspiration,uv_index_max,uv_index_clear_sky_max&timezone=auto\n"
     ]
    }
   ],
   "source": [
    "for i, parameter in enumerate(parameters):\n",
    "    if i < len(parameters) - 1:\n",
    "        MainURL += parameter + \",\"\n",
    "    else:\n",
    "        MainURL += parameter\n",
    "\n",
    "MainURL += \"&timezone=auto\"\n",
    "print(MainURL)"
   ]
  },
  {
   "cell_type": "code",
   "execution_count": 86,
   "id": "f6968841",
   "metadata": {},
   "outputs": [
    {
     "name": "stdout",
     "output_type": "stream",
     "text": [
      "{'latitude': 54.25, 'longitude': 69.5, 'generationtime_ms': 0.49304962158203125, 'utc_offset_seconds': 21600, 'timezone': 'Asia/Almaty', 'timezone_abbreviation': '+06', 'elevation': 135.0, 'daily_units': {'time': 'iso8601', 'temperature_2m_max': '°C', 'temperature_2m_min': '°C', 'apparent_temperature_max': '°C', 'apparent_temperature_min': '°C', 'precipitation_sum': 'mm', 'rain_sum': 'mm', 'showers_sum': 'mm', 'snowfall_sum': 'cm', 'precipitation_hours': 'h', 'precipitation_probability_max': '%', 'precipitation_probability_min': '%', 'precipitation_probability_mean': '%', 'weathercode': 'wmo code', 'sunrise': 'iso8601', 'sunset': 'iso8601', 'windspeed_10m_max': 'km/h', 'windgusts_10m_max': 'km/h', 'winddirection_10m_dominant': '°', 'shortwave_radiation_sum': 'MJ/m²', 'et0_fao_evapotranspiration': 'mm', 'uv_index_max': '', 'uv_index_clear_sky_max': ''}, 'daily': {'time': ['2023-10-01', '2023-10-02', '2023-10-03', '2023-10-04', '2023-10-05', '2023-10-06', '2023-10-07'], 'temperature_2m_max': [14.8, 15.3, 16.5, 15.7, 18.5, 17.3, 14.4], 'temperature_2m_min': [5.5, 5.7, 6.2, 7.9, 8.6, 9.0, 6.7], 'apparent_temperature_max': [12.9, 12.9, 13.3, 11.8, 16.0, 15.0, 10.7], 'apparent_temperature_min': [3.4, 3.6, 4.1, 5.2, 6.6, 7.2, 4.0], 'precipitation_sum': [0.0, 0.0, 0.0, 0.0, 0.0, 0.0, 0.0], 'rain_sum': [0.0, 0.0, 0.0, 0.0, 0.0, 0.0, 0.0], 'showers_sum': [0.0, 0.0, 0.0, 0.0, 0.0, 0.0, 0.0], 'snowfall_sum': [0.0, 0.0, 0.0, 0.0, 0.0, 0.0, 0.0], 'precipitation_hours': [0.0, 0.0, 0.0, 0.0, 0.0, 0.0, 0.0], 'precipitation_probability_max': [42, 0, 0, 0, 3, 10, 16], 'precipitation_probability_min': [42, 0, 0, 0, 3, 10, 16], 'precipitation_probability_mean': [42, 0, 0, 0, 3, 10, 16], 'weathercode': [45, 45, 3, 3, 2, 3, 3], 'sunrise': ['2023-10-01T07:23', '2023-10-02T07:25', '2023-10-03T07:27', '2023-10-04T07:28', '2023-10-05T07:30', '2023-10-06T07:32', '2023-10-07T07:34'], 'sunset': ['2023-10-01T18:59', '2023-10-02T18:57', '2023-10-03T18:55', '2023-10-04T18:52', '2023-10-05T18:50', '2023-10-06T18:47', '2023-10-07T18:45'], 'windspeed_10m_max': [8.8, 11.3, 13.8, 21.1, 15.4, 11.2, 14.6], 'windgusts_10m_max': [16.6, 21.6, 25.6, 38.2, 27.7, 21.2, 27.7], 'winddirection_10m_dominant': [101, 162, 211, 215, 234, 226, 30], 'shortwave_radiation_sum': [10.0, 10.78, 10.16, 6.08, 9.49, 7.93, 8.55], 'et0_fao_evapotranspiration': [1.38, 1.55, 1.71, 1.53, 1.71, 1.54, 1.53], 'uv_index_max': [2.65, 3.35, 3.25, 2.8, 3.25, 2.05, 2.9], 'uv_index_clear_sky_max': [3.35, 3.35, 3.3, 3.25, 3.25, 3.1, 2.9]}}\n"
     ]
    }
   ],
   "source": [
    "try:\n",
    "    # Convert from bytes to text\n",
    "    resp_text = urllib.request.urlopen(MainURL).read().decode('UTF-8')\n",
    "    # Use loads to decode from text\n",
    "    json_obj = json.loads(resp_text)\n",
    "    print(json_obj)\n",
    "\n",
    "except urllib.error.HTTPError  as e:\n",
    "    ErrorInfo= e.read().decode()\n",
    "    print('Error code: ', e.code, ErrorInfo)\n",
    "    sys.exit()\n",
    "except  urllib.error.URLError as e:\n",
    "    ErrorInfo= e.read().decode()\n",
    "    print('Error code: ', e.code,ErrorInfo)\n",
    "    sys.exit()"
   ]
  },
  {
   "cell_type": "code",
   "execution_count": 87,
   "id": "143efe12",
   "metadata": {},
   "outputs": [
    {
     "data": {
      "text/plain": [
       "{'time': 'iso8601',\n",
       " 'temperature_2m_max': '°C',\n",
       " 'temperature_2m_min': '°C',\n",
       " 'apparent_temperature_max': '°C',\n",
       " 'apparent_temperature_min': '°C',\n",
       " 'precipitation_sum': 'mm',\n",
       " 'rain_sum': 'mm',\n",
       " 'showers_sum': 'mm',\n",
       " 'snowfall_sum': 'cm',\n",
       " 'precipitation_hours': 'h',\n",
       " 'precipitation_probability_max': '%',\n",
       " 'precipitation_probability_min': '%',\n",
       " 'precipitation_probability_mean': '%',\n",
       " 'weathercode': 'wmo code',\n",
       " 'sunrise': 'iso8601',\n",
       " 'sunset': 'iso8601',\n",
       " 'windspeed_10m_max': 'km/h',\n",
       " 'windgusts_10m_max': 'km/h',\n",
       " 'winddirection_10m_dominant': '°',\n",
       " 'shortwave_radiation_sum': 'MJ/m²',\n",
       " 'et0_fao_evapotranspiration': 'mm',\n",
       " 'uv_index_max': '',\n",
       " 'uv_index_clear_sky_max': ''}"
      ]
     },
     "execution_count": 87,
     "metadata": {},
     "output_type": "execute_result"
    }
   ],
   "source": [
    "json_obj[\"daily_units\"]"
   ]
  },
  {
   "cell_type": "code",
   "execution_count": 91,
   "id": "41994bbf",
   "metadata": {},
   "outputs": [
    {
     "data": {
      "text/plain": [
       "['2023-10-01',\n",
       " '2023-10-02',\n",
       " '2023-10-03',\n",
       " '2023-10-04',\n",
       " '2023-10-05',\n",
       " '2023-10-06',\n",
       " '2023-10-07']"
      ]
     },
     "execution_count": 91,
     "metadata": {},
     "output_type": "execute_result"
    }
   ],
   "source": [
    "json_obj[\"daily\"][\"time\"]"
   ]
  },
  {
   "cell_type": "code",
   "execution_count": 93,
   "id": "30e68bf2",
   "metadata": {},
   "outputs": [
    {
     "name": "stdout",
     "output_type": "stream",
     "text": [
      "temperature_2m_max:  [14.8, 15.3, 16.5, 15.7, 18.5, 17.3, 14.4]\n",
      "temperature_2m_min:  [5.5, 5.7, 6.2, 7.9, 8.6, 9.0, 6.7]\n",
      "apparent_temperature_max:  [12.9, 12.9, 13.3, 11.8, 16.0, 15.0, 10.7]\n",
      "apparent_temperature_min:  [3.4, 3.6, 4.1, 5.2, 6.6, 7.2, 4.0]\n",
      "precipitation_sum:  [0.0, 0.0, 0.0, 0.0, 0.0, 0.0, 0.0]\n",
      "rain_sum:  [0.0, 0.0, 0.0, 0.0, 0.0, 0.0, 0.0]\n",
      "showers_sum:  [0.0, 0.0, 0.0, 0.0, 0.0, 0.0, 0.0]\n",
      "snowfall_sum:  [0.0, 0.0, 0.0, 0.0, 0.0, 0.0, 0.0]\n",
      "precipitation_hours:  [0.0, 0.0, 0.0, 0.0, 0.0, 0.0, 0.0]\n",
      "precipitation_probability_max:  [42, 0, 0, 0, 3, 10, 16]\n",
      "precipitation_probability_min:  [42, 0, 0, 0, 3, 10, 16]\n",
      "precipitation_probability_mean:  [42, 0, 0, 0, 3, 10, 16]\n",
      "weathercode:  [45, 45, 3, 3, 2, 3, 3]\n",
      "sunrise:  ['2023-10-01T07:23', '2023-10-02T07:25', '2023-10-03T07:27', '2023-10-04T07:28', '2023-10-05T07:30', '2023-10-06T07:32', '2023-10-07T07:34']\n",
      "sunset:  ['2023-10-01T18:59', '2023-10-02T18:57', '2023-10-03T18:55', '2023-10-04T18:52', '2023-10-05T18:50', '2023-10-06T18:47', '2023-10-07T18:45']\n",
      "windspeed_10m_max:  [8.8, 11.3, 13.8, 21.1, 15.4, 11.2, 14.6]\n",
      "windgusts_10m_max:  [16.6, 21.6, 25.6, 38.2, 27.7, 21.2, 27.7]\n",
      "winddirection_10m_dominant:  [101, 162, 211, 215, 234, 226, 30]\n",
      "shortwave_radiation_sum:  [10.0, 10.78, 10.16, 6.08, 9.49, 7.93, 8.55]\n",
      "et0_fao_evapotranspiration:  [1.38, 1.55, 1.71, 1.53, 1.71, 1.54, 1.53]\n",
      "uv_index_max:  [2.65, 3.35, 3.25, 2.8, 3.25, 2.05, 2.9]\n",
      "uv_index_clear_sky_max:  [3.35, 3.35, 3.3, 3.25, 3.25, 3.1, 2.9]\n"
     ]
    }
   ],
   "source": [
    "for i, parameter in enumerate(parameters):\n",
    "    print(f\"{parameter}: \", json_obj[\"daily\"][parameter])"
   ]
  },
  {
   "cell_type": "markdown",
   "id": "50b7af4e",
   "metadata": {},
   "source": [
    "# weathercode значения:\n",
    "https://www.nodc.noaa.gov/archive/arc0021/0002199/1.1/data/0-data/HTML/WMO-CODE/WMO4677.HTM"
   ]
  },
  {
   "cell_type": "code",
   "execution_count": null,
   "id": "c3c3c15b",
   "metadata": {},
   "outputs": [],
   "source": []
  }
 ],
 "metadata": {
  "kernelspec": {
   "display_name": "Python 3 (ipykernel)",
   "language": "python",
   "name": "python3"
  },
  "language_info": {
   "codemirror_mode": {
    "name": "ipython",
    "version": 3
   },
   "file_extension": ".py",
   "mimetype": "text/x-python",
   "name": "python",
   "nbconvert_exporter": "python",
   "pygments_lexer": "ipython3",
   "version": "3.9.13"
  }
 },
 "nbformat": 4,
 "nbformat_minor": 5
}
