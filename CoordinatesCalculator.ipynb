{
 "cells": [
  {
   "cell_type": "markdown",
   "metadata": {},
   "source": [
    "# Импортирование библиотек"
   ]
  },
  {
   "cell_type": "code",
   "execution_count": 2,
   "metadata": {
    "colab": {
     "base_uri": "https://localhost:8080/"
    },
    "id": "14Vh8hi4Awdu",
    "outputId": "4edd68e5-994a-4fb5-f630-f5b52d9a5b70"
   },
   "outputs": [],
   "source": [
    "import geopandas as gpd\n",
    "from fiona.drvsupport import supported_drivers\n",
    "import pylab as plt\n",
    "import matplotlib.pyplot as plt\n",
    "from shapely.ops import unary_union\n",
    "import numpy as np\n",
    "from shapely.geometry import Polygon, Point\n",
    "from shapely.ops import transform\n",
    "import pyproj"
   ]
  },
  {
   "cell_type": "code",
   "execution_count": 3,
   "metadata": {},
   "outputs": [],
   "source": [
    "supported_drivers['KML'] = 'rw'\n",
    "pasture_df = gpd.read_file('pasture.kml', driver='KML')"
   ]
  },
  {
   "cell_type": "code",
   "execution_count": 4,
   "metadata": {},
   "outputs": [],
   "source": [
    "all_zagons = []\n",
    "for zagon in range(len(pasture_df.index)):\n",
    "    all_zagons.append(pasture_df.loc[zagon].geometry)"
   ]
  },
  {
   "cell_type": "code",
   "execution_count": 5,
   "metadata": {},
   "outputs": [],
   "source": [
    "merged_zagons = unary_union(all_zagons)"
   ]
  },
  {
   "cell_type": "code",
   "execution_count": 6,
   "metadata": {},
   "outputs": [],
   "source": [
    "x_min, y_min, x_max, y_max = merged_zagons.bounds"
   ]
  },
  {
   "cell_type": "code",
   "execution_count": 7,
   "metadata": {},
   "outputs": [
    {
     "name": "stdout",
     "output_type": "stream",
     "text": [
      "x_min   ||   y_min   ||   x_max   ||   y_max\n",
      "69.508097 54.211517 69.532304 54.21838700000001\n"
     ]
    }
   ],
   "source": [
    "print(\"x_min   ||   y_min   ||   x_max   ||   y_max\")\n",
    "print(x_min, y_min, x_max, y_max)"
   ]
  },
  {
   "cell_type": "code",
   "execution_count": 8,
   "metadata": {},
   "outputs": [
    {
     "name": "stdout",
     "output_type": "stream",
     "text": [
      "0.0001541847133757317 8.807692307700475e-05\n"
     ]
    }
   ],
   "source": [
    "width, height = 157, 78\n",
    "step_by_x = (x_max - x_min)/width\n",
    "step_by_y = (y_max - y_min)/height\n",
    "\n",
    "print(step_by_x, step_by_y)"
   ]
  },
  {
   "cell_type": "code",
   "execution_count": 9,
   "metadata": {},
   "outputs": [],
   "source": [
    "probes = [(54.21314, 69.51347),\n",
    "        (54.2151, 69.51433),\n",
    "        (54.21312, 69.5143),\n",
    "        (54.21386, 69.51527),\n",
    "        (54.21459, 69.51663),\n",
    "        (54.21412, 69.51755),\n",
    "        (54.21392, 69.51903),\n",
    "        (54.21327, 69.51773),\n",
    "        (54.21318, 69.51697),\n",
    "        (54.21292, 69.5161),\n",
    "        (54.21265, 69.51523),\n",
    "        (54.21244, 69.51442),\n",
    "        (54.21272, 69.51463),\n",
    "        (54.21304, 69.51521),\n",
    "        (54.21304, 69.51525),\n",
    "        (54.21239, 69.51336),]"
   ]
  },
  {
   "cell_type": "code",
   "execution_count": 8,
   "metadata": {},
   "outputs": [],
   "source": [
    "# curr_coord_x = x_min + (15 * step_by_x)\n",
    "# curr_coord_y = y_min + (40 * step_by_y)\n",
    "\n",
    "curr_coord_y, curr_coord_x = 54.211599, 69.531900"
   ]
  },
  {
   "cell_type": "code",
   "execution_count": 18,
   "metadata": {},
   "outputs": [
    {
     "name": "stdout",
     "output_type": "stream",
     "text": [
      "Координаты: 54.21314, 69.51347 || Пиксельный эквивалент: 59, 34\n",
      "Координаты: 54.2151, 69.51433 || Пиксельный эквивалент: 37, 40\n",
      "Координаты: 54.21312, 69.5143 || Пиксельный эквивалент: 59, 40\n",
      "Координаты: 54.21386, 69.51527 || Пиксельный эквивалент: 51, 46\n",
      "Координаты: 54.21459, 69.51663 || Пиксельный эквивалент: 43, 55\n",
      "Координаты: 54.21412, 69.51755 || Пиксельный эквивалент: 48, 61\n",
      "Координаты: 54.21392, 69.51903 || Пиксельный эквивалент: 50, 70\n",
      "Координаты: 54.21327, 69.51773 || Пиксельный эквивалент: 58, 62\n",
      "Координаты: 54.21318, 69.51697 || Пиксельный эквивалент: 59, 57\n",
      "Координаты: 54.21292, 69.5161 || Пиксельный эквивалент: 62, 51\n",
      "Координаты: 54.21265, 69.51523 || Пиксельный эквивалент: 65, 46\n",
      "Координаты: 54.21244, 69.51442 || Пиксельный эквивалент: 67, 41\n",
      "Координаты: 54.21272, 69.51463 || Пиксельный эквивалент: 64, 42\n",
      "Координаты: 54.21304, 69.51521 || Пиксельный эквивалент: 60, 46\n",
      "Координаты: 54.21304, 69.51525 || Пиксельный эквивалент: 60, 46\n",
      "Координаты: 54.21239, 69.51336 || Пиксельный эквивалент: 68, 34\n"
     ]
    }
   ],
   "source": [
    "for curr_coord_y, curr_coord_x in probes:\n",
    "    x = int(np.interp(curr_coord_x, [x_min, x_max], [0, width])) # 157\n",
    "    y = int(np.interp(curr_coord_y, [y_min, y_max], [height, 0])) # 78\n",
    "\n",
    "    print(f\"Координаты: {curr_coord_y}, {curr_coord_x} || Пиксельный эквивалент: {y}, {x}\")"
   ]
  },
  {
   "cell_type": "code",
   "execution_count": 9,
   "metadata": {},
   "outputs": [
    {
     "name": "stdout",
     "output_type": "stream",
     "text": [
      "154 77\n"
     ]
    }
   ],
   "source": [
    "x = int(np.interp(curr_coord_x, [x_min, x_max], [0, width])) \n",
    "y = int(np.interp(curr_coord_y, [y_min, y_max], [height, 0]))\n",
    "\n",
    "print(x, y)"
   ]
  },
  {
   "cell_type": "code",
   "execution_count": null,
   "metadata": {},
   "outputs": [],
   "source": []
  }
 ],
 "metadata": {
  "colab": {
   "authorship_tag": "ABX9TyPg6ndDU2BYxMAKJr0TRRhs",
   "collapsed_sections": [],
   "include_colab_link": true,
   "mount_file_id": "1eR5BbQ7JmLOg3q4Olg82Rn01jsHHo2gD",
   "name": "Land Cover Classification in Satellite Imagery using Python.ipynb",
   "provenance": []
  },
  "kernelspec": {
   "display_name": "Python 3 (ipykernel)",
   "language": "python",
   "name": "python3"
  },
  "language_info": {
   "codemirror_mode": {
    "name": "ipython",
    "version": 3
   },
   "file_extension": ".py",
   "mimetype": "text/x-python",
   "name": "python",
   "nbconvert_exporter": "python",
   "pygments_lexer": "ipython3",
   "version": "3.9.13"
  }
 },
 "nbformat": 4,
 "nbformat_minor": 1
}
